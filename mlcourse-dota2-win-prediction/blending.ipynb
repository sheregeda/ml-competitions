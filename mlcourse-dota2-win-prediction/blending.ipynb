{
 "cells": [
  {
   "cell_type": "code",
   "execution_count": 1,
   "metadata": {},
   "outputs": [],
   "source": [
    "import os\n",
    "import pandas as pd"
   ]
  },
  {
   "cell_type": "code",
   "execution_count": 2,
   "metadata": {},
   "outputs": [],
   "source": [
    "submission_0 = pd.read_csv(\"./submissions/submission_0.csv\")\n",
    "submission_1 = pd.read_csv(\"./submissions/submission_1.csv\")\n",
    "submission_2 = pd.read_csv(\"./submissions/submission_2.csv\")\n",
    "submission_3 = pd.read_csv(\"./submissions/submission_3.csv\")"
   ]
  },
  {
   "cell_type": "code",
   "execution_count": 3,
   "metadata": {},
   "outputs": [
    {
     "data": {
      "text/html": [
       "<div>\n",
       "<style scoped>\n",
       "    .dataframe tbody tr th:only-of-type {\n",
       "        vertical-align: middle;\n",
       "    }\n",
       "\n",
       "    .dataframe tbody tr th {\n",
       "        vertical-align: top;\n",
       "    }\n",
       "\n",
       "    .dataframe thead th {\n",
       "        text-align: right;\n",
       "    }\n",
       "</style>\n",
       "<table border=\"1\" class=\"dataframe\">\n",
       "  <thead>\n",
       "    <tr style=\"text-align: right;\">\n",
       "      <th></th>\n",
       "      <th>match_id_hash</th>\n",
       "      <th>radiant_win_prob</th>\n",
       "    </tr>\n",
       "  </thead>\n",
       "  <tbody>\n",
       "    <tr>\n",
       "      <th>0</th>\n",
       "      <td>30cc2d778dca82f2edb568ce9b585caa</td>\n",
       "      <td>0.463428</td>\n",
       "    </tr>\n",
       "    <tr>\n",
       "      <th>1</th>\n",
       "      <td>70e5ba30f367cea48793b9003fab9d38</td>\n",
       "      <td>0.973951</td>\n",
       "    </tr>\n",
       "    <tr>\n",
       "      <th>2</th>\n",
       "      <td>4d9ef74d3a2025d79e9423105fd73d41</td>\n",
       "      <td>0.943354</td>\n",
       "    </tr>\n",
       "    <tr>\n",
       "      <th>3</th>\n",
       "      <td>2bb79e0c1eaac1608e5a09c8e0c6a555</td>\n",
       "      <td>0.756837</td>\n",
       "    </tr>\n",
       "    <tr>\n",
       "      <th>4</th>\n",
       "      <td>bec17f099b01d67edc82dfb5ce735a43</td>\n",
       "      <td>0.288368</td>\n",
       "    </tr>\n",
       "  </tbody>\n",
       "</table>\n",
       "</div>"
      ],
      "text/plain": [
       "                      match_id_hash  radiant_win_prob\n",
       "0  30cc2d778dca82f2edb568ce9b585caa          0.463428\n",
       "1  70e5ba30f367cea48793b9003fab9d38          0.973951\n",
       "2  4d9ef74d3a2025d79e9423105fd73d41          0.943354\n",
       "3  2bb79e0c1eaac1608e5a09c8e0c6a555          0.756837\n",
       "4  bec17f099b01d67edc82dfb5ce735a43          0.288368"
      ]
     },
     "execution_count": 3,
     "metadata": {},
     "output_type": "execute_result"
    }
   ],
   "source": [
    "submission = pd.DataFrame()\n",
    "submission['match_id_hash'] = submission_0['match_id_hash']\n",
    "submission['radiant_win_prob'] = (\n",
    "    0.34*submission_0['radiant_win_prob']+\n",
    "    0.22*submission_1['radiant_win_prob']+\n",
    "    0.22*submission_2['radiant_win_prob']+\n",
    "    0.22*submission_3['radiant_win_prob']\n",
    ")\n",
    "\n",
    "submission.head()"
   ]
  },
  {
   "cell_type": "code",
   "execution_count": 4,
   "metadata": {},
   "outputs": [],
   "source": [
    "submission.to_csv('submission.csv', index=False)"
   ]
  }
 ],
 "metadata": {
  "kernelspec": {
   "display_name": "Python 3",
   "language": "python",
   "name": "python3"
  },
  "language_info": {
   "codemirror_mode": {
    "name": "ipython",
    "version": 3
   },
   "file_extension": ".py",
   "mimetype": "text/x-python",
   "name": "python",
   "nbconvert_exporter": "python",
   "pygments_lexer": "ipython3",
   "version": "3.6.9"
  }
 },
 "nbformat": 4,
 "nbformat_minor": 2
}
