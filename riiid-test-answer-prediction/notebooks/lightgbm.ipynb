{
 "cells": [
  {
   "cell_type": "code",
   "execution_count": 1,
   "metadata": {},
   "outputs": [],
   "source": [
    "import gc\n",
    "import os\n",
    "import pickle\n",
    "\n",
    "from collections import defaultdict\n",
    "\n",
    "import pandas as pd\n",
    "import numpy as np\n",
    "import seaborn as sns\n",
    "import matplotlib.pyplot as plt\n",
    "\n",
    "import lightgbm as lgb"
   ]
  },
  {
   "cell_type": "code",
   "execution_count": 50,
   "metadata": {},
   "outputs": [],
   "source": [
    "def export_model(model, name='model.pickle'):\n",
    "    with open(os.path.join(PATH_TO_DATA, name), 'wb') as f:\n",
    "        pickle.dump(model, f)"
   ]
  },
  {
   "cell_type": "code",
   "execution_count": 3,
   "metadata": {},
   "outputs": [],
   "source": [
    "PATH_TO_DATA = 'data/raw'\n",
    "SEED = 17"
   ]
  },
  {
   "cell_type": "code",
   "execution_count": 4,
   "metadata": {},
   "outputs": [],
   "source": [
    "lectures = pd.read_csv(os.path.join(PATH_TO_DATA, 'lectures.csv'))\n",
    "\n",
    "dtypes = {\n",
    "    'question_id': 'int16',\n",
    "    'part': 'int8'\n",
    "}\n",
    "questions = pd.read_csv(os.path.join(PATH_TO_DATA, 'questions.csv'), dtype=dtypes)\n",
    "\n",
    "train_dtypes = {\n",
    "    'user_id': 'int32', \n",
    "    'content_id': 'int16', \n",
    "    'answered_correctly': 'int8', \n",
    "    'prior_question_elapsed_time': 'float32', \n",
    "    'prior_question_had_explanation': 'bool'\n",
    "}\n",
    "train = pd.read_feather(os.path.join(PATH_TO_DATA, 'train.feather'))"
   ]
  },
  {
   "cell_type": "code",
   "execution_count": 5,
   "metadata": {},
   "outputs": [],
   "source": [
    "sample_test = pd.read_csv(os.path.join(PATH_TO_DATA, 'example_test.csv'))\n",
    "sample_submission = pd.read_csv(os.path.join(PATH_TO_DATA, 'example_sample_submission.csv'))"
   ]
  },
  {
   "cell_type": "code",
   "execution_count": 6,
   "metadata": {},
   "outputs": [],
   "source": [
    "# Заполнить NaN для 'prior_question_had_explanation'\n",
    "train['prior_question_had_explanation'].fillna(False, inplace = True)\n",
    "train = train.astype(train_dtypes)"
   ]
  },
  {
   "cell_type": "code",
   "execution_count": 7,
   "metadata": {},
   "outputs": [],
   "source": [
    "cum = train.groupby('user_id')['content_type_id'].agg(['cumsum', 'cumcount'])\n",
    "train['user_lecture_cumsum'] = cum['cumsum'].astype('int8')\n",
    "train['user_lecture_lv'] = (cum['cumsum'] / cum['cumcount']).astype('float16').fillna(0)"
   ]
  },
  {
   "cell_type": "code",
   "execution_count": 8,
   "metadata": {},
   "outputs": [],
   "source": [
    "# Исключить лекции из трейна\n",
    "train = train[train['answered_correctly'] != -1].reset_index(drop=True, inplace=False)"
   ]
  },
  {
   "cell_type": "code",
   "execution_count": 9,
   "metadata": {},
   "outputs": [],
   "source": [
    "# Правильно ли пользователь ответил на предыдущий вопрос\n",
    "train['prior_answered_correctly'] = train.groupby('user_id')['answered_correctly'].shift()\n",
    "\n",
    "# На сколько вопрсоов ответил правильно и всего было задано\n",
    "cum = train.groupby('user_id')['prior_answered_correctly'].agg(['cumsum', 'cumcount'])\n",
    "\n",
    "# Правильность ответов пользователя\n",
    "train['user_correctness'] = cum['cumsum'] / cum['cumcount']\n",
    "train['user_correct_cumcount'] = cum['cumcount']\n",
    "train['user_correct_cumsum'] = cum['cumsum']"
   ]
  },
  {
   "cell_type": "code",
   "execution_count": 10,
   "metadata": {},
   "outputs": [
    {
     "data": {
      "text/plain": [
       "15"
      ]
     },
     "execution_count": 10,
     "metadata": {},
     "output_type": "execute_result"
    }
   ],
   "source": [
    "del cum\n",
    "gc.collect()"
   ]
  },
  {
   "cell_type": "code",
   "execution_count": 11,
   "metadata": {},
   "outputs": [],
   "source": [
    "# количество попыток ответить на вопрос\n",
    "train[\"attempt_no\"] = 1\n",
    "train[\"attempt_no\"] = train[\"attempt_no\"].astype('int8')\n",
    "\n",
    "train[\"attempt_no\"] = train[[\"user_id\", \"content_id\", \"attempt_no\"]].groupby(\n",
    "    [\"user_id\", \"content_id\"]\n",
    ")[\"attempt_no\"].cumsum()"
   ]
  },
  {
   "cell_type": "code",
   "execution_count": 12,
   "metadata": {},
   "outputs": [],
   "source": [
    "# Общая правильность пользователей\n",
    "user_agg = train.groupby('user_id')['answered_correctly'].agg(['sum', 'count'])\n",
    "\n",
    "# Общая сложность вопросов\n",
    "content_agg = train.groupby('content_id')['answered_correctly'].agg(['sum', 'count', 'var'])\n",
    "\n",
    "# Общая сложность групп вопросов\n",
    "task_container_agg = train.groupby('task_container_id')['answered_correctly'].agg(['sum', 'count', 'var'])\n",
    "\n",
    "# максимальное количество попыток ответить на вопрос для пользователя\n",
    "attempt_no_agg = train[[\"user_id\", \"content_id\", \"attempt_no\"]].groupby(\n",
    "    [\"user_id\",\"content_id\"]\n",
    ")[\"attempt_no\"].agg(['sum'])\n",
    "attempt_no_agg = attempt_no_agg[attempt_no_agg['sum'] > 1]"
   ]
  },
  {
   "cell_type": "code",
   "execution_count": 13,
   "metadata": {},
   "outputs": [],
   "source": [
    "content_explation_agg = train[\n",
    "    ['content_id', 'prior_question_had_explanation', 'answered_correctly']\n",
    "].groupby(['content_id', 'prior_question_had_explanation'])['answered_correctly'].mean()\n",
    "\n",
    "content_explation_agg = content_explation_agg.unstack()\n",
    "\n",
    "content_explation_agg = content_explation_agg.reset_index()\n",
    "content_explation_agg.columns = ['content_id', 'content_explation_false_mean', 'content_explation_true_mean']"
   ]
  },
  {
   "cell_type": "code",
   "execution_count": null,
   "metadata": {},
   "outputs": [],
   "source": []
  },
  {
   "cell_type": "code",
   "execution_count": 14,
   "metadata": {},
   "outputs": [],
   "source": [
    "questions.rename(columns={'question_id': 'content_id'}, inplace=True)"
   ]
  },
  {
   "cell_type": "code",
   "execution_count": 15,
   "metadata": {},
   "outputs": [],
   "source": [
    "questions['content_correctness'] = questions['content_id'].map(\n",
    "    content_agg['sum'] / content_agg['count']\n",
    ").astype('float16')"
   ]
  },
  {
   "cell_type": "code",
   "execution_count": 16,
   "metadata": {},
   "outputs": [],
   "source": [
    "bundle_agg = questions.groupby('bundle_id')['content_correctness'].agg(['mean'])\n",
    "questions['bundle_correctness'] = questions['bundle_id'].map(bundle_agg['mean']).astype('float16')"
   ]
  },
  {
   "cell_type": "code",
   "execution_count": 17,
   "metadata": {},
   "outputs": [],
   "source": [
    "part_agg = questions.groupby('part')['content_correctness'].agg(['mean', 'var'])\n",
    "questions['part_correctness_mean'] = questions['part'].map(part_agg['mean']).astype('float16')\n",
    "questions['part_correctness_std'] = questions['part'].map(part_agg['var']).astype('float16')"
   ]
  },
  {
   "cell_type": "code",
   "execution_count": 18,
   "metadata": {},
   "outputs": [],
   "source": [
    "tag = questions[\"tags\"].str.split(\" \", n = 10, expand=True)\n",
    "tag.columns = ['tags1', 'tags2', 'tags3', 'tags4', 'tags5', 'tags6']\n",
    "tag.fillna(0, inplace=True)\n",
    "tag = tag.astype('int16')\n",
    "questions = pd.concat([questions, tag], axis=1).drop(['tags'], axis=1)"
   ]
  },
  {
   "cell_type": "code",
   "execution_count": 19,
   "metadata": {},
   "outputs": [],
   "source": [
    "tags1_agg = questions.groupby('tags1')['content_correctness'].agg(['mean', 'var'])\n",
    "questions['tags1_correctness_mean'] = questions['tags1'].map(tags1_agg['mean']).astype('float16')\n",
    "questions['tags1_correctness_std'] = questions['tags1'].map(tags1_agg['var']).astype('float16')"
   ]
  },
  {
   "cell_type": "code",
   "execution_count": 20,
   "metadata": {},
   "outputs": [],
   "source": [
    "questions['part_bundle_id'] = questions['part']*100000 + questions['bundle_id'].astype('int32')"
   ]
  },
  {
   "cell_type": "code",
   "execution_count": 21,
   "metadata": {},
   "outputs": [],
   "source": [
    "questions.drop(columns=['content_correctness'], inplace=True)"
   ]
  },
  {
   "cell_type": "code",
   "execution_count": 22,
   "metadata": {},
   "outputs": [],
   "source": [
    "questions = pd.merge(\n",
    "    questions,\n",
    "    content_explation_agg,\n",
    "    left_on='content_id',\n",
    "    right_on='content_id',\n",
    "    how='left'\n",
    ")"
   ]
  },
  {
   "cell_type": "code",
   "execution_count": 23,
   "metadata": {},
   "outputs": [],
   "source": [
    "# Урезаем обучающую выборку\n",
    "# Оставить только последнии 24 взаимодействия пользователя с платформой\n",
    "train = train.groupby('user_id').tail(24).reset_index(drop=True)"
   ]
  },
  {
   "cell_type": "code",
   "execution_count": 24,
   "metadata": {},
   "outputs": [],
   "source": [
    "train = pd.merge(\n",
    "    train,\n",
    "    questions,\n",
    "    left_on='content_id',\n",
    "    right_on='content_id',\n",
    "    how='left'\n",
    ")"
   ]
  },
  {
   "cell_type": "code",
   "execution_count": 25,
   "metadata": {},
   "outputs": [],
   "source": [
    "# timestamp последнего отвеченного бандла вопрсов для пользователя\n",
    "user_last_timestamp = train.groupby('user_id')['timestamp'].max()"
   ]
  },
  {
   "cell_type": "code",
   "execution_count": 26,
   "metadata": {},
   "outputs": [],
   "source": [
    "# Сколько раз правильно ответили на вопрос все пользователи\n",
    "train['content_count'] = train['content_id'].map(content_agg['count']).astype('int32')\n",
    "train['content_sum'] = train['content_id'].map(content_agg['sum']).astype('int32')\n",
    "\n",
    "# На сколько вопрос сложный, как часто пользователи в нем ошибались\n",
    "train['content_correctness'] = train['content_id'].map(content_agg['sum'] / content_agg['count']).astype('float16')\n",
    "train['content_correctness_std'] = train['content_id'].map(content_agg['var']).astype('float16')"
   ]
  },
  {
   "cell_type": "code",
   "execution_count": 27,
   "metadata": {},
   "outputs": [],
   "source": [
    "train['task_container_sum'] = train['task_container_id'].map(task_container_agg['sum']).astype('int32')\n",
    "train['task_container_std'] = train['task_container_id'].map(task_container_agg['var']).astype('float16')\n",
    "train['task_container_correctness'] = train['task_container_id'].map(\n",
    "    task_container_agg['sum'] / task_container_agg['count']).astype('float16')"
   ]
  },
  {
   "cell_type": "code",
   "execution_count": 28,
   "metadata": {},
   "outputs": [],
   "source": [
    "# промежуток времени между bundle\n",
    "train['time_between_bundle'] = train['timestamp'] - train.groupby(by=['user_id'])['timestamp'].shift(1)\n",
    "train['time_between_bundle'] = train['time_between_bundle'].replace(to_replace=0, method='ffill').fillna(0)\n",
    "train['time_between_bundle'] = train['time_between_bundle'].astype(int)"
   ]
  },
  {
   "cell_type": "code",
   "execution_count": 29,
   "metadata": {},
   "outputs": [],
   "source": [
    "time_between_bundle_agg = train.groupby('user_id')['time_between_bundle'].agg(['mean'])\n",
    "train['time_between_bundle_mean'] = train['user_id'].map(time_between_bundle_agg['mean']).astype('int32')"
   ]
  },
  {
   "cell_type": "code",
   "execution_count": 30,
   "metadata": {},
   "outputs": [],
   "source": [
    "valid = train.groupby('user_id').tail(6)\n",
    "train.drop(valid.index, inplace=True)"
   ]
  },
  {
   "cell_type": "code",
   "execution_count": null,
   "metadata": {},
   "outputs": [],
   "source": [
    "timestamp                            float16\n",
    "user_id                                int32\n",
    "content_id                             int16\n",
    "content_type_id                         int8\n",
    "task_container_id                      int16\n",
    "answered_correctly                      int8\n",
    "prior_question_elapsed_time          float32\n",
    "prior_question_had_explanation          int8\n",
    "user_interaction_count                 int16\n",
    "user_interaction_timestamp_mean      float32\n",
    "user_lecture_sum                       int16\n",
    "user_lecture_lv                      float16\n",
    "attempt_no                              int8\n",
    "lagtime                              float32\n",
    "lagtime2                             float32\n",
    "lagtime3                             float32\n",
    "delta_prior_question_elapsed_time      int32\n",
    "user_correctness                     float16\n",
    "user_correct_count                     int16\n",
    "user_uncorrect_count                   int16\n",
    "explanation_mean                     float16\n",
    "explanation_true_count                 int16\n",
    "explanation_false_count                int16\n",
    "task_container_uncor_count             int32\n",
    "task_container_cor_count               int32\n",
    "task_container_std                   float16\n",
    "task_container_correctness           float16\n",
    "\n",
    "content_id                        int16\n",
    "bundle_id                         int16\n",
    "part                               int8\n",
    "content_sub_bundle                 int8\n",
    "tags0                              int8\n",
    "tags1                              int8\n",
    "tags2                              int8\n",
    "tags3                              int8\n",
    "tags4                              int8\n",
    "tags5                              int8\n",
    "part_bundle_id                    int32\n",
    "content_explation_false_mean    float16\n",
    "content_explation_true_mean     float16\n",
    "content_correctness             float16\n",
    "content_correctness_std         float16\n",
    "content_uncorrect_count           int32\n",
    "content_correct_count             int32\n",
    "content_elapsed_time_mean       float16\n",
    "content_had_explanation_mean    float16\n",
    "part_correctness_mean           float16\n",
    "part_correctness_std            float16\n",
    "part_uncor_count                  int32\n",
    "part_cor_count                    int32\n",
    "bundle_correctness_mean         float16\n",
    "\n",
    "'timestamp': 'float16',\n",
    "    'user_interaction_count': 'int16',\n",
    "    'user_interaction_timestamp_mean': 'float32',\n",
    "    'lagtime': 'float32',\n",
    "    'lagtime2': 'float32',\n",
    "    'lagtime3': 'float32',\n",
    "    'content_id': 'int16',\n",
    "    'task_container_id': 'int16',\n",
    "    'user_lecture_sum': 'int16',\n",
    "    'user_lecture_lv': 'float16',\n",
    "    'prior_question_elapsed_time': 'float32',\n",
    "    'delta_prior_question_elapsed_time': 'int32',\n",
    "    'user_correctness': 'float16',\n",
    "    'user_uncorrect_count': 'int16',\n",
    "    'user_correct_count': 'int16',\n",
    "    'content_correctness_std': 'float16',\n",
    "    'content_correct_count': 'int32',\n",
    "    'content_uncorrect_count': 'int32',\n",
    "    'content_elapsed_time_mean': 'float16',\n",
    "    'content_had_explanation_mean': 'float16',\n",
    "    'content_explation_false_mean': 'float16',\n",
    "    'content_explation_true_mean': 'float16',\n",
    "    'task_container_correctness': 'float16',\n",
    "    'task_container_std': 'float16',\n",
    "    'task_container_cor_count': 'int32',\n",
    "    'task_container_uncor_count': 'int32',\n",
    "    'attempt_no': 'int8',\n",
    "    'part': 'int8',\n",
    "    'part_correctness_mean': 'float16',\n",
    "    'part_correctness_std': 'float16',\n",
    "    'part_uncor_count': 'int32',\n",
    "    'part_cor_count': 'int32',\n",
    "    'tags0': 'int8',\n",
    "    'tags1': 'int8',\n",
    "    'tags2': 'int8',\n",
    "    'tags3': 'int8',\n",
    "    'tags4': 'int8',\n",
    "    'tags5': 'int8',\n",
    "    'part_bundle_id': 'int32',\n",
    "    'content_sub_bundle': 'int8',\n",
    "    'prior_question_had_explanation': 'int8',\n",
    "    'explanation_mean': 'float16',\n",
    "    'explanation_false_count': 'int16',\n",
    "    'explanation_true_count': 'int16',"
   ]
  },
  {
   "cell_type": "code",
   "execution_count": 44,
   "metadata": {},
   "outputs": [],
   "source": [
    "features = [\n",
    "    'content_id',\n",
    "    'content_correctness', \n",
    "    'content_count',\n",
    "    'content_sum',\n",
    "    'content_explation_false_mean',\n",
    "    'content_explation_true_mean',\n",
    "    'content_correctness_std',\n",
    "    \n",
    "    'user_correctness',\n",
    "    'user_correct_cumcount',\n",
    "    'user_correct_cumsum',\n",
    "    \n",
    "    'time_between_bundle',\n",
    "    'prior_question_had_explanation',\n",
    "    'prior_question_elapsed_time',\n",
    "    'attempt_no',\n",
    "    \n",
    "    'part',\n",
    "    'part_correctness_mean',\n",
    "    'part_correctness_std',\n",
    "    'part_bundle_id',\n",
    "\n",
    "    'tags1',\n",
    "    'tags1_correctness_mean',\n",
    "    'tags1_correctness_std',\n",
    "\n",
    "    # можно удалить\n",
    "    'task_container_id',\n",
    "    'task_container_sum',\n",
    "    'task_container_std',\n",
    "    'task_container_correctness',\n",
    "    'bundle_correctness',\n",
    "\n",
    "    # можно удалить\n",
    "    'user_lecture_cumsum',\n",
    "    'user_lecture_lv',\n",
    "\n",
    "]\n",
    "\n",
    "# cat_features = None\n",
    "# cat_features = ['content_id', 'part', 'tags1', 'part_bundle_id', 'task_container_id']\n",
    "\n",
    "lgb_params = {    \n",
    "#     'num_leaves': 350,\n",
    "#     'max_bin': 700,\n",
    "#     'min_child_weight': 0.03454472573214212,\n",
    "#     'feature_fraction': 0.58,\n",
    "#     'bagging_fraction': 0.58,\n",
    "#     'objective': 'binary',\n",
    "#     'max_depth': -1,\n",
    "#     'learning_rate': 0.05,\n",
    "#     \"boosting_type\": \"gbdt\",\n",
    "    \"bagging_seed\": SEED,\n",
    "    \"metric\": 'auc',\n",
    "    \"verbosity\": -1,\n",
    "#     'reg_alpha': 0.3899927210061127,\n",
    "#     'reg_lambda': 0.6485237330340494,\n",
    "    'random_state': SEED\n",
    "}"
   ]
  },
  {
   "cell_type": "code",
   "execution_count": 45,
   "metadata": {},
   "outputs": [],
   "source": [
    "lgb_train = lgb.Dataset(train[features], train['answered_correctly'])\n",
    "lgb_eval = lgb.Dataset(valid[features], valid['answered_correctly'])"
   ]
  },
  {
   "cell_type": "code",
   "execution_count": 46,
   "metadata": {},
   "outputs": [
    {
     "name": "stdout",
     "output_type": "stream",
     "text": [
      "[100]\ttraining's auc: 0.766246\tvalid_1's auc: 0.752486\n",
      "CPU times: user 22min 22s, sys: 40.8 s, total: 23min 3s\n",
      "Wall time: 2min 4s\n"
     ]
    }
   ],
   "source": [
    "# 0.752486\n",
    "%%time\n",
    "model = lgb.train(lgb_params, lgb_train, valid_sets=[lgb_train, lgb_eval], verbose_eval=100)"
   ]
  },
  {
   "cell_type": "code",
   "execution_count": 47,
   "metadata": {},
   "outputs": [
    {
     "data": {
      "image/png": "[encoded data removed]",
      "text/plain": [
       "<Figure size 720x720 with 1 Axes>"
      ]
     },
     "metadata": {
      "needs_background": "light"
     },
     "output_type": "display_data"
    }
   ],
   "source": [
    "feature_importance = pd.DataFrame({\n",
    "    'feature': train[features].columns.values.tolist(),\n",
    "    'importance': model.feature_importance()\n",
    "}).sort_values('importance', ascending=False)\n",
    "\n",
    "fig, ax = plt.subplots(figsize=(10, 10))\n",
    "sns.barplot(\n",
    "    x=feature_importance.importance,\n",
    "    y=feature_importance.feature,\n",
    "    ax=ax,\n",
    ");"
   ]
  },
  {
   "cell_type": "code",
   "execution_count": 51,
   "metadata": {},
   "outputs": [],
   "source": [
    "export_model(model, 'lgbm.pickle')"
   ]
  },
  {
   "cell_type": "code",
   "execution_count": null,
   "metadata": {},
   "outputs": [],
   "source": []
  },
  {
   "cell_type": "code",
   "execution_count": 52,
   "metadata": {},
   "outputs": [],
   "source": [
    "def iter_test():\n",
    "    for group_num, df in sample_test.groupby(by=['group_num']):\n",
    "        yield df, group_num"
   ]
  },
  {
   "cell_type": "code",
   "execution_count": 53,
   "metadata": {},
   "outputs": [],
   "source": [
    "def get_max_attempt(user_id, content_id):\n",
    "    key = (user_id, content_id)\n",
    "\n",
    "    if key in attempt_no_dict:\n",
    "        attempt_no_dict[key] += 1\n",
    "        return attempt_no_dict[key]\n",
    "\n",
    "    attempt_no_dict[key] = 1\n",
    "    return attempt_no_dict[key]"
   ]
  },
  {
   "cell_type": "code",
   "execution_count": 54,
   "metadata": {},
   "outputs": [],
   "source": [
    "user_sum_dict = user_agg['sum'].astype('int16').to_dict(defaultdict(int))\n",
    "user_count_dict = user_agg['count'].astype('int16').to_dict(defaultdict(int))\n",
    "content_sum_dict = content_agg['sum'].astype('int32').to_dict(defaultdict(int))\n",
    "content_count_dict = content_agg['count'].astype('int32').to_dict(defaultdict(int))\n",
    "last_timestamp_dict = user_last_timestamp.astype('int64').to_dict(defaultdict(int))\n",
    "attempt_no_dict = attempt_no_agg['sum'].to_dict(defaultdict(int))"
   ]
  },
  {
   "cell_type": "code",
   "execution_count": 56,
   "metadata": {},
   "outputs": [
    {
     "name": "stderr",
     "output_type": "stream",
     "text": [
      "<timed exec>:63: RuntimeWarning: invalid value encountered in true_divide\n"
     ]
    },
    {
     "ename": "KeyError",
     "evalue": "\"['task_container_correctness', 'task_container_sum', 'task_container_std', 'user_correct_cumsum', 'user_lecture_lv', 'user_correct_cumcount', 'content_correctness_std', 'user_lecture_cumsum'] not in index\"",
     "output_type": "error",
     "traceback": [
      "\u001b[0;31m---------------------------------------------------------------------------\u001b[0m",
      "\u001b[0;31mKeyError\u001b[0m                                  Traceback (most recent call last)",
      "\u001b[0;32m<timed exec>\u001b[0m in \u001b[0;36m<module>\u001b[0;34m\u001b[0m\n",
      "\u001b[0;32m~/.pyenv/versions/3.8.6/envs/kaggle/lib/python3.8/site-packages/pandas/core/frame.py\u001b[0m in \u001b[0;36m__getitem__\u001b[0;34m(self, key)\u001b[0m\n\u001b[1;32m   2910\u001b[0m             \u001b[0;32mif\u001b[0m \u001b[0mis_iterator\u001b[0m\u001b[0;34m(\u001b[0m\u001b[0mkey\u001b[0m\u001b[0;34m)\u001b[0m\u001b[0;34m:\u001b[0m\u001b[0;34m\u001b[0m\u001b[0;34m\u001b[0m\u001b[0m\n\u001b[1;32m   2911\u001b[0m                 \u001b[0mkey\u001b[0m \u001b[0;34m=\u001b[0m \u001b[0mlist\u001b[0m\u001b[0;34m(\u001b[0m\u001b[0mkey\u001b[0m\u001b[0;34m)\u001b[0m\u001b[0;34m\u001b[0m\u001b[0;34m\u001b[0m\u001b[0m\n\u001b[0;32m-> 2912\u001b[0;31m             \u001b[0mindexer\u001b[0m \u001b[0;34m=\u001b[0m \u001b[0mself\u001b[0m\u001b[0;34m.\u001b[0m\u001b[0mloc\u001b[0m\u001b[0;34m.\u001b[0m\u001b[0m_get_listlike_indexer\u001b[0m\u001b[0;34m(\u001b[0m\u001b[0mkey\u001b[0m\u001b[0;34m,\u001b[0m \u001b[0maxis\u001b[0m\u001b[0;34m=\u001b[0m\u001b[0;36m1\u001b[0m\u001b[0;34m,\u001b[0m \u001b[0mraise_missing\u001b[0m\u001b[0;34m=\u001b[0m\u001b[0;32mTrue\u001b[0m\u001b[0;34m)\u001b[0m\u001b[0;34m[\u001b[0m\u001b[0;36m1\u001b[0m\u001b[0;34m]\u001b[0m\u001b[0;34m\u001b[0m\u001b[0;34m\u001b[0m\u001b[0m\n\u001b[0m\u001b[1;32m   2913\u001b[0m \u001b[0;34m\u001b[0m\u001b[0m\n\u001b[1;32m   2914\u001b[0m         \u001b[0;31m# take() does not accept boolean indexers\u001b[0m\u001b[0;34m\u001b[0m\u001b[0;34m\u001b[0m\u001b[0;34m\u001b[0m\u001b[0m\n",
      "\u001b[0;32m~/.pyenv/versions/3.8.6/envs/kaggle/lib/python3.8/site-packages/pandas/core/indexing.py\u001b[0m in \u001b[0;36m_get_listlike_indexer\u001b[0;34m(self, key, axis, raise_missing)\u001b[0m\n\u001b[1;32m   1252\u001b[0m             \u001b[0mkeyarr\u001b[0m\u001b[0;34m,\u001b[0m \u001b[0mindexer\u001b[0m\u001b[0;34m,\u001b[0m \u001b[0mnew_indexer\u001b[0m \u001b[0;34m=\u001b[0m \u001b[0max\u001b[0m\u001b[0;34m.\u001b[0m\u001b[0m_reindex_non_unique\u001b[0m\u001b[0;34m(\u001b[0m\u001b[0mkeyarr\u001b[0m\u001b[0;34m)\u001b[0m\u001b[0;34m\u001b[0m\u001b[0;34m\u001b[0m\u001b[0m\n\u001b[1;32m   1253\u001b[0m \u001b[0;34m\u001b[0m\u001b[0m\n\u001b[0;32m-> 1254\u001b[0;31m         \u001b[0mself\u001b[0m\u001b[0;34m.\u001b[0m\u001b[0m_validate_read_indexer\u001b[0m\u001b[0;34m(\u001b[0m\u001b[0mkeyarr\u001b[0m\u001b[0;34m,\u001b[0m \u001b[0mindexer\u001b[0m\u001b[0;34m,\u001b[0m \u001b[0maxis\u001b[0m\u001b[0;34m,\u001b[0m \u001b[0mraise_missing\u001b[0m\u001b[0;34m=\u001b[0m\u001b[0mraise_missing\u001b[0m\u001b[0;34m)\u001b[0m\u001b[0;34m\u001b[0m\u001b[0;34m\u001b[0m\u001b[0m\n\u001b[0m\u001b[1;32m   1255\u001b[0m         \u001b[0;32mreturn\u001b[0m \u001b[0mkeyarr\u001b[0m\u001b[0;34m,\u001b[0m \u001b[0mindexer\u001b[0m\u001b[0;34m\u001b[0m\u001b[0;34m\u001b[0m\u001b[0m\n\u001b[1;32m   1256\u001b[0m \u001b[0;34m\u001b[0m\u001b[0m\n",
      "\u001b[0;32m~/.pyenv/versions/3.8.6/envs/kaggle/lib/python3.8/site-packages/pandas/core/indexing.py\u001b[0m in \u001b[0;36m_validate_read_indexer\u001b[0;34m(self, key, indexer, axis, raise_missing)\u001b[0m\n\u001b[1;32m   1302\u001b[0m             \u001b[0;32mif\u001b[0m \u001b[0mraise_missing\u001b[0m\u001b[0;34m:\u001b[0m\u001b[0;34m\u001b[0m\u001b[0;34m\u001b[0m\u001b[0m\n\u001b[1;32m   1303\u001b[0m                 \u001b[0mnot_found\u001b[0m \u001b[0;34m=\u001b[0m \u001b[0mlist\u001b[0m\u001b[0;34m(\u001b[0m\u001b[0mset\u001b[0m\u001b[0;34m(\u001b[0m\u001b[0mkey\u001b[0m\u001b[0;34m)\u001b[0m \u001b[0;34m-\u001b[0m \u001b[0mset\u001b[0m\u001b[0;34m(\u001b[0m\u001b[0max\u001b[0m\u001b[0;34m)\u001b[0m\u001b[0;34m)\u001b[0m\u001b[0;34m\u001b[0m\u001b[0;34m\u001b[0m\u001b[0m\n\u001b[0;32m-> 1304\u001b[0;31m                 \u001b[0;32mraise\u001b[0m \u001b[0mKeyError\u001b[0m\u001b[0;34m(\u001b[0m\u001b[0;34mf\"{not_found} not in index\"\u001b[0m\u001b[0;34m)\u001b[0m\u001b[0;34m\u001b[0m\u001b[0;34m\u001b[0m\u001b[0m\n\u001b[0m\u001b[1;32m   1305\u001b[0m \u001b[0;34m\u001b[0m\u001b[0m\n\u001b[1;32m   1306\u001b[0m             \u001b[0;31m# we skip the warning on Categorical\u001b[0m\u001b[0;34m\u001b[0m\u001b[0;34m\u001b[0m\u001b[0;34m\u001b[0m\u001b[0m\n",
      "\u001b[0;31mKeyError\u001b[0m: \"['task_container_correctness', 'task_container_sum', 'task_container_std', 'user_correct_cumsum', 'user_lecture_lv', 'user_correct_cumcount', 'content_correctness_std', 'user_lecture_cumsum'] not in index\""
     ]
    }
   ],
   "source": [
    "%%time\n",
    "\n",
    "prior_test = None\n",
    "for test, _ in iter_test():\n",
    "\n",
    "    # если есть предыдущая пачка вопросов, то обновим агрегаты/словари для вычисления новых фичей датасета\n",
    "    if prior_test is not None:\n",
    "        # извлечь ответы на предыдущую пачку вопросов\n",
    "        prior_test['answered_correctly'] = eval(test['prior_group_answers_correct'].iloc[0])\n",
    "        # исключить лекции\n",
    "        prior_test = prior_test[prior_test['answered_correctly'] != -1].reset_index(drop = True)\n",
    "        \n",
    "        # обновим агрегаты \n",
    "        user_ids = prior_test['user_id'].values\n",
    "        content_ids = prior_test['content_id'].values\n",
    "        timestamps = prior_test['timestamp'].values\n",
    "        targets = prior_test['answered_correctly'].values\n",
    "\n",
    "        for user_id, content_id, timestamp, answered_correctly in zip(\n",
    "            user_ids, content_ids, timestamps, targets\n",
    "        ):\n",
    "            user_sum_dict[user_id] += answered_correctly\n",
    "            user_count_dict[user_id] += 1\n",
    "            content_sum_dict[content_id] += answered_correctly\n",
    "            content_count_dict[content_id] += 1\n",
    "\n",
    "            # в рамках бандла вопросов одинаковый timestamp\n",
    "            # в пачке тестовых данных только один бандлд для пользователя\n",
    "            last_timestamp_dict[user_id] = timestamp\n",
    "            \n",
    "            # количество попыток ответить на вопрос для пользователя\n",
    "            attempt_no_dict[(user_id, content_id)] += 1\n",
    "\n",
    "    # прихранить пачку вопрсов для ее использования на следующей итерации\n",
    "    prior_test = test.copy()\n",
    "    \n",
    "    # исключить лекции\n",
    "    test = test[test['content_type_id'] != -1].reset_index(drop=True)\n",
    "    \n",
    "    # добавить в датасет вопросы\n",
    "    test = pd.merge(\n",
    "        test, questions, left_on='content_id', right_on='content_id', how='left')\n",
    "    test['prior_question_had_explanation'] = test[\n",
    "        'prior_question_had_explanation'].fillna(False).astype('bool')    \n",
    "    \n",
    "    # дефолтные зачения для новых фичей\n",
    "    user_sum = np.zeros(len(test), dtype=np.int16)\n",
    "    user_count = np.zeros(len(test), dtype=np.int16)\n",
    "    content_sum = np.zeros(len(test), dtype=np.int32)\n",
    "    content_count = np.zeros(len(test), dtype=np.int32)\n",
    "    time_between_bundle = np.zeros(len(test), dtype=np.int32)\n",
    "\n",
    "    user_ids = test['user_id'].values\n",
    "    content_ids = test['content_id'].values\n",
    "    timestamps = test['timestamp'].values\n",
    "    \n",
    "    for i, (user_id, content_id, timestamp) in enumerate(zip(user_ids, content_ids, timestamps)):\n",
    "        user_sum[i] = user_sum_dict[user_id]\n",
    "        user_count[i] = user_count_dict[user_id]\n",
    "        content_sum[i] = content_sum_dict[content_id]\n",
    "        content_count[i] = content_count_dict[content_id]\n",
    "        time_between_bundle[i] = int(timestamp - last_timestamp_dict[user_id])\n",
    "    \n",
    "    # назначить новые фичи\n",
    "    test['user_correctness'] = user_sum / user_count\n",
    "    test['cumcount_answers'] = user_count\n",
    "    test['user_uncorrect_count'] = user_count - user_sum\n",
    "    test['content_count'] = content_count\n",
    "    test['content_sum'] = content_sum\n",
    "    test['content_correctness'] = content_sum / content_count\n",
    "    test['time_between_bundle'] = time_between_bundle\n",
    "    test[\"attempt_no\"] = test[[\"user_id\", \"content_id\"]].apply(\n",
    "        lambda row: get_max_attempt(row[\"user_id\"], row[\"content_id\"]), axis=1)\n",
    "\n",
    "    test['answered_correctly'] = model.predict(test[features])[:,1]\n",
    "    "
   ]
  },
  {
   "cell_type": "code",
   "execution_count": null,
   "metadata": {},
   "outputs": [],
   "source": []
  }
 ],
 "metadata": {
  "kernelspec": {
   "display_name": "Python 3",
   "language": "python",
   "name": "python3"
  },
  "language_info": {
   "codemirror_mode": {
    "name": "ipython",
    "version": 3
   },
   "file_extension": ".py",
   "mimetype": "text/x-python",
   "name": "python",
   "nbconvert_exporter": "python",
   "pygments_lexer": "ipython3",
   "version": "3.8.6"
  }
 },
 "nbformat": 4,
 "nbformat_minor": 4
}
