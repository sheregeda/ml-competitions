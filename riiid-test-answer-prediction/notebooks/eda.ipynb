{
 "cells": [
  {
   "cell_type": "code",
   "execution_count": 2,
   "metadata": {},
   "outputs": [],
   "source": [
    "import os\n",
    "import gc\n",
    "import pandas as pd\n",
    "import numpy as np\n",
    "\n",
    "from matplotlib import pyplot as plt\n",
    "import seaborn as sns\n",
    "\n",
    "%matplotlib inline\n",
    "sns.set(rc={'figure.figsize': (16, 9)})\n",
    "\n",
    "pd.options.mode.chained_assignment = None"
   ]
  },
  {
   "cell_type": "code",
   "execution_count": 4,
   "metadata": {},
   "outputs": [],
   "source": [
    "PATH_TO_DATA = 'data/raw'"
   ]
  },
  {
   "cell_type": "code",
   "execution_count": 3,
   "metadata": {},
   "outputs": [],
   "source": [
    "test = pd.read_csv(os.path.join(PATH_TO_DATA, 'example_test.csv'), index_col='row_id')\n",
    "lectures = pd.read_csv(os.path.join(PATH_TO_DATA, 'lectures.csv'))\n",
    "\n",
    "dtypes = {\n",
    "    'question_id': 'int16',\n",
    "    'part': 'int8'\n",
    "}\n",
    "questions = pd.read_csv(os.path.join(PATH_TO_DATA, 'questions.csv'), dtype=dtypes)\n",
    "\n",
    "train_dtypes = {\n",
    "    'user_id': 'int32', \n",
    "    'content_id': 'int16', \n",
    "    'answered_correctly': 'int8', \n",
    "    'prior_question_elapsed_time': 'float32', \n",
    "    'prior_question_had_explanation': 'bool'\n",
    "}\n",
    "train = pd.read_feather(os.path.join(PATH_TO_DATA, 'train.feather'))\n",
    "\n",
    "user_tag_agg = pd.read_feather(os.path.join(PATH_TO_DATA, 'user_tag_agg.feather'))\n",
    "train_q_tags = pd.read_feather(os.path.join(PATH_TO_DATA, 'train_q_tags.feather'))"
   ]
  },
  {
   "cell_type": "markdown",
   "metadata": {},
   "source": [
    "_Конвертация большого csv в формат feather_"
   ]
  },
  {
   "cell_type": "code",
   "execution_count": 4,
   "metadata": {},
   "outputs": [],
   "source": [
    "# %%time\n",
    "\n",
    "# Подготовка feather файла для тренировачных данных\n",
    "# dtypes = {\n",
    "#     \"row_id\": \"int64\",\n",
    "#     \"timestamp\": \"int64\",\n",
    "#     \"user_id\": \"int32\",\n",
    "#     \"content_id\": \"int16\",\n",
    "#     \"content_type_id\": \"boolean\",\n",
    "#     \"task_container_id\": \"int16\",\n",
    "#     \"user_answer\": \"int8\",\n",
    "#     \"answered_correctly\": \"int8\",\n",
    "#     \"prior_question_elapsed_time\": \"float32\", \n",
    "#     \"prior_question_had_explanation\": \"boolean\"\n",
    "# }\n",
    "# df_train = pd.read_csv(os.path.join(PATH_TO_DATA, 'train.csv'), dtype=dtypes, index_col='row_id')\n",
    "# df_train.reset_index(drop=True).to_feather(os.path.join(PATH_TO_DATA, 'train.feather'))"
   ]
  },
  {
   "cell_type": "code",
   "execution_count": 5,
   "metadata": {},
   "outputs": [],
   "source": [
    "# %%time\n",
    "\n",
    "# Подготовка данных по тегам для пользователей\n",
    "# tags = train_q[['user_id', 'tags', 'answered_correctly']]\n",
    "# tags['tags'] = tags['tags'].str.split()\n",
    "# tags = tags.explode('tags')\n",
    "# user_tag_agg = tags.groupby(by=['user_id', 'tags'])['answered_correctly'].agg(['sum', 'count'])\n",
    "# user_tag_agg.reset_index().to_feather(os.path.join(PATH_TO_DATA, 'user_tag_agg.feather'))"
   ]
  },
  {
   "cell_type": "markdown",
   "metadata": {},
   "source": [
    "## Исследование фичей train"
   ]
  },
  {
   "cell_type": "code",
   "execution_count": 6,
   "metadata": {},
   "outputs": [
    {
     "data": {
      "text/html": [
       "<div>\n",
       "<style scoped>\n",
       "    .dataframe tbody tr th:only-of-type {\n",
       "        vertical-align: middle;\n",
       "    }\n",
       "\n",
       "    .dataframe tbody tr th {\n",
       "        vertical-align: top;\n",
       "    }\n",
       "\n",
       "    .dataframe thead th {\n",
       "        text-align: right;\n",
       "    }\n",
       "</style>\n",
       "<table border=\"1\" class=\"dataframe\">\n",
       "  <thead>\n",
       "    <tr style=\"text-align: right;\">\n",
       "      <th></th>\n",
       "      <th>timestamp</th>\n",
       "      <th>user_id</th>\n",
       "      <th>content_id</th>\n",
       "      <th>content_type_id</th>\n",
       "      <th>task_container_id</th>\n",
       "      <th>user_answer</th>\n",
       "      <th>answered_correctly</th>\n",
       "      <th>prior_question_elapsed_time</th>\n",
       "      <th>prior_question_had_explanation</th>\n",
       "    </tr>\n",
       "  </thead>\n",
       "  <tbody>\n",
       "    <tr>\n",
       "      <th>0</th>\n",
       "      <td>0</td>\n",
       "      <td>115</td>\n",
       "      <td>5692</td>\n",
       "      <td>False</td>\n",
       "      <td>1</td>\n",
       "      <td>3</td>\n",
       "      <td>1</td>\n",
       "      <td>NaN</td>\n",
       "      <td>&lt;NA&gt;</td>\n",
       "    </tr>\n",
       "    <tr>\n",
       "      <th>1</th>\n",
       "      <td>56943</td>\n",
       "      <td>115</td>\n",
       "      <td>5716</td>\n",
       "      <td>False</td>\n",
       "      <td>2</td>\n",
       "      <td>2</td>\n",
       "      <td>1</td>\n",
       "      <td>37000.0</td>\n",
       "      <td>False</td>\n",
       "    </tr>\n",
       "    <tr>\n",
       "      <th>2</th>\n",
       "      <td>118363</td>\n",
       "      <td>115</td>\n",
       "      <td>128</td>\n",
       "      <td>False</td>\n",
       "      <td>0</td>\n",
       "      <td>0</td>\n",
       "      <td>1</td>\n",
       "      <td>55000.0</td>\n",
       "      <td>False</td>\n",
       "    </tr>\n",
       "    <tr>\n",
       "      <th>3</th>\n",
       "      <td>131167</td>\n",
       "      <td>115</td>\n",
       "      <td>7860</td>\n",
       "      <td>False</td>\n",
       "      <td>3</td>\n",
       "      <td>0</td>\n",
       "      <td>1</td>\n",
       "      <td>19000.0</td>\n",
       "      <td>False</td>\n",
       "    </tr>\n",
       "    <tr>\n",
       "      <th>4</th>\n",
       "      <td>137965</td>\n",
       "      <td>115</td>\n",
       "      <td>7922</td>\n",
       "      <td>False</td>\n",
       "      <td>4</td>\n",
       "      <td>1</td>\n",
       "      <td>1</td>\n",
       "      <td>11000.0</td>\n",
       "      <td>False</td>\n",
       "    </tr>\n",
       "  </tbody>\n",
       "</table>\n",
       "</div>"
      ],
      "text/plain": [
       "   timestamp  user_id  content_id  content_type_id  task_container_id  \\\n",
       "0          0      115        5692            False                  1   \n",
       "1      56943      115        5716            False                  2   \n",
       "2     118363      115         128            False                  0   \n",
       "3     131167      115        7860            False                  3   \n",
       "4     137965      115        7922            False                  4   \n",
       "\n",
       "   user_answer  answered_correctly  prior_question_elapsed_time  \\\n",
       "0            3                   1                          NaN   \n",
       "1            2                   1                      37000.0   \n",
       "2            0                   1                      55000.0   \n",
       "3            0                   1                      19000.0   \n",
       "4            1                   1                      11000.0   \n",
       "\n",
       "   prior_question_had_explanation  \n",
       "0                            <NA>  \n",
       "1                           False  \n",
       "2                           False  \n",
       "3                           False  \n",
       "4                           False  "
      ]
     },
     "execution_count": 6,
     "metadata": {},
     "output_type": "execute_result"
    }
   ],
   "source": [
    "train.head()"
   ]
  },
  {
   "cell_type": "code",
   "execution_count": 7,
   "metadata": {},
   "outputs": [
    {
     "data": {
      "text/plain": [
       "(101230332, 9)"
      ]
     },
     "execution_count": 7,
     "metadata": {},
     "output_type": "execute_result"
    }
   ],
   "source": [
    "# количестов объектов и фичей\n",
    "train.shape"
   ]
  },
  {
   "cell_type": "code",
   "execution_count": 8,
   "metadata": {},
   "outputs": [
    {
     "name": "stdout",
     "output_type": "stream",
     "text": [
      "<class 'pandas.core.frame.DataFrame'>\n",
      "RangeIndex: 101230332 entries, 0 to 101230331\n",
      "Data columns (total 9 columns):\n",
      " #   Column                          Non-Null Count      Dtype  \n",
      "---  ------                          --------------      -----  \n",
      " 0   timestamp                       101230332 non-null  int64  \n",
      " 1   user_id                         101230332 non-null  int32  \n",
      " 2   content_id                      101230332 non-null  int16  \n",
      " 3   content_type_id                 101230332 non-null  boolean\n",
      " 4   task_container_id               101230332 non-null  int16  \n",
      " 5   user_answer                     101230332 non-null  int8   \n",
      " 6   answered_correctly              101230332 non-null  int8   \n",
      " 7   prior_question_elapsed_time     98878794 non-null   float32\n",
      " 8   prior_question_had_explanation  100837826 non-null  boolean\n",
      "dtypes: boolean(2), float32(1), int16(2), int32(1), int64(1), int8(2)\n",
      "memory usage: 2.5 GB\n"
     ]
    }
   ],
   "source": [
    "# поля prior_question_elapsed_time и prior_question_had_explanation имеют NULL значения\n",
    "train.info(null_counts=True)"
   ]
  },
  {
   "cell_type": "code",
   "execution_count": null,
   "metadata": {},
   "outputs": [],
   "source": []
  },
  {
   "cell_type": "markdown",
   "metadata": {},
   "source": [
    "### timestamp\n",
    "\n",
    "Время в миллисекундах между этим взаимодействием с пользователем (этой строкой в датасете) и первым завершенным событие от этого пользователя."
   ]
  },
  {
   "cell_type": "code",
   "execution_count": 9,
   "metadata": {},
   "outputs": [
    {
     "data": {
      "text/plain": [
       "87425772049"
      ]
     },
     "execution_count": 9,
     "metadata": {},
     "output_type": "execute_result"
    }
   ],
   "source": [
    "# Максимальная разница во времени между первым и последним взаимодействием пользователя с платформой\n",
    "train['timestamp'].max()"
   ]
  },
  {
   "cell_type": "code",
   "execution_count": 10,
   "metadata": {},
   "outputs": [],
   "source": [
    "# В месяцах\n",
    "train['timestamp_month'] = round(train['timestamp'] / 2.628e+9).astype(int)"
   ]
  },
  {
   "cell_type": "code",
   "execution_count": 11,
   "metadata": {},
   "outputs": [
    {
     "data": {
      "image/png": "[encoded data removed]",
      "text/plain": [
       "<Figure size 1152x576 with 1 Axes>"
      ]
     },
     "metadata": {},
     "output_type": "display_data"
    }
   ],
   "source": [
    "# Большинство пользователей недавно на платформе\n",
    "\n",
    "plt.figure(figsize=(16, 8))\n",
    "train['timestamp_month'].hist(bins=40);"
   ]
  },
  {
   "cell_type": "code",
   "execution_count": 12,
   "metadata": {},
   "outputs": [
    {
     "data": {
      "text/plain": [
       "True"
      ]
     },
     "execution_count": 12,
     "metadata": {},
     "output_type": "execute_result"
    }
   ],
   "source": [
    "# Для всех пользователей в датасете есть событие, которое описывает первое взаимодействие с платформой \n",
    "\n",
    "train['user_id'].nunique() == train[train['timestamp'] == 0]['user_id'].nunique()"
   ]
  },
  {
   "cell_type": "code",
   "execution_count": null,
   "metadata": {},
   "outputs": [],
   "source": []
  },
  {
   "cell_type": "markdown",
   "metadata": {},
   "source": [
    "### user_id\n",
    "\n",
    "ID пользователя на платформе."
   ]
  },
  {
   "cell_type": "code",
   "execution_count": 13,
   "metadata": {},
   "outputs": [
    {
     "data": {
      "text/plain": [
       "393656"
      ]
     },
     "execution_count": 13,
     "metadata": {},
     "output_type": "execute_result"
    }
   ],
   "source": [
    "# Количество уникальных пользователей\n",
    "train['user_id'].nunique()"
   ]
  },
  {
   "cell_type": "code",
   "execution_count": 14,
   "metadata": {},
   "outputs": [
    {
     "data": {
      "image/png": "[encoded data removed]",
      "text/plain": [
       "<Figure size 1152x576 with 1 Axes>"
      ]
     },
     "metadata": {},
     "output_type": "display_data"
    }
   ],
   "source": [
    "# Большинство пользователей совершали немного взаимодействий с платформой, но есть выбросы\n",
    "\n",
    "fig, ax = plt.subplots(figsize=(16, 8))\n",
    "sns.histplot(train['user_id'].value_counts(), bins=100, ax=ax);"
   ]
  },
  {
   "cell_type": "code",
   "execution_count": null,
   "metadata": {},
   "outputs": [],
   "source": []
  },
  {
   "cell_type": "markdown",
   "metadata": {},
   "source": [
    "### content_id, content_type_id\n",
    "\n",
    "ID для взаимодействия пользователя с платформой:\n",
    "- ID вопроса, на который отвечал пользователь, если тип взаимодействия \"вопрос\" (content_type_id = False)\n",
    "- ID лекции, которую смотрел пользователь, если тип взаимодействия \"лекция\" (content_type_id = True)"
   ]
  },
  {
   "cell_type": "code",
   "execution_count": 15,
   "metadata": {},
   "outputs": [
    {
     "data": {
      "text/plain": [
       "13782"
      ]
     },
     "execution_count": 15,
     "metadata": {},
     "output_type": "execute_result"
    }
   ],
   "source": [
    "# Количество уникальных ID взаимодействия\n",
    "train['content_id'].nunique()"
   ]
  },
  {
   "cell_type": "code",
   "execution_count": 16,
   "metadata": {},
   "outputs": [
    {
     "data": {
      "text/plain": [
       "True"
      ]
     },
     "execution_count": 16,
     "metadata": {},
     "output_type": "execute_result"
    }
   ],
   "source": [
    "# В train присуствуют все вопросы из questions\n",
    "train[train['content_type_id'] == 0]['content_id'].nunique() == questions['question_id'].nunique()"
   ]
  },
  {
   "cell_type": "code",
   "execution_count": 17,
   "metadata": {},
   "outputs": [
    {
     "data": {
      "text/plain": [
       "set()"
      ]
     },
     "execution_count": 17,
     "metadata": {},
     "output_type": "execute_result"
    }
   ],
   "source": [
    "# все лекции из train присутствуют в lectures\n",
    "set(train[train['content_type_id'] == 1]['content_id']) - set(lectures['lecture_id'])"
   ]
  },
  {
   "cell_type": "code",
   "execution_count": 18,
   "metadata": {},
   "outputs": [
    {
     "data": {
      "image/png": "[encoded data removed]",
      "text/plain": [
       "<Figure size 1152x648 with 1 Axes>"
      ]
     },
     "metadata": {},
     "output_type": "display_data"
    }
   ],
   "source": [
    "# в датасете преобладают вопросы\n",
    "train['content_type_id'].astype(int).hist();"
   ]
  },
  {
   "cell_type": "code",
   "execution_count": 19,
   "metadata": {},
   "outputs": [
    {
     "data": {
      "text/plain": [
       "6116    213605\n",
       "6173    202106\n",
       "4120    199372\n",
       "175     195861\n",
       "7876    190170\n",
       "7900    180858\n",
       "2063    176043\n",
       "2064    176043\n",
       "2065    176043\n",
       "4492    173769\n",
       "Name: content_id, dtype: int64"
      ]
     },
     "execution_count": 19,
     "metadata": {},
     "output_type": "execute_result"
    }
   ],
   "source": [
    "# топ-10 вопрос по всем данным\n",
    "train[train['content_type_id'] == 0]['content_id'].value_counts(ascending=False)[:10]"
   ]
  },
  {
   "cell_type": "code",
   "execution_count": 20,
   "metadata": {},
   "outputs": [
    {
     "data": {
      "text/plain": [
       "3153     37024\n",
       "21411    27051\n",
       "10540    24312\n",
       "29695    24126\n",
       "15888    22627\n",
       "27845    21250\n",
       "26335    21118\n",
       "32312    20943\n",
       "29544    20941\n",
       "18545    19167\n",
       "Name: content_id, dtype: int64"
      ]
     },
     "execution_count": 20,
     "metadata": {},
     "output_type": "execute_result"
    }
   ],
   "source": [
    "# топ-10 лекций по всем данным\n",
    "train[train['content_type_id'] == 1]['content_id'].value_counts(ascending=False)[:10]"
   ]
  },
  {
   "cell_type": "code",
   "execution_count": null,
   "metadata": {},
   "outputs": [],
   "source": []
  },
  {
   "cell_type": "markdown",
   "metadata": {},
   "source": [
    "### task_container_id\n",
    "\n",
    "ID пачки вопросов и лекций, которые объединены общей темой. Пользователь может ответить, например, на три вопроса, которые относятся к одному task_container_id. Лекции и вопросы находятся в разных task_container_id.\n",
    "\n",
    "???\n",
    "The API provides user interactions groups in the order in which they occurred. Each group will contain interactions from many different users, but no more than one task_container_id of questions from any single user. Each group has between 1 and 1000 users."
   ]
  },
  {
   "cell_type": "code",
   "execution_count": 21,
   "metadata": {},
   "outputs": [
    {
     "data": {
      "text/plain": [
       "10000"
      ]
     },
     "execution_count": 21,
     "metadata": {},
     "output_type": "execute_result"
    }
   ],
   "source": [
    "# количество групп вопрсов и лекций\n",
    "train['task_container_id'].nunique()"
   ]
  },
  {
   "cell_type": "code",
   "execution_count": 22,
   "metadata": {},
   "outputs": [],
   "source": [
    "cont_size = train.groupby(by=['task_container_id']).size()"
   ]
  },
  {
   "cell_type": "code",
   "execution_count": 23,
   "metadata": {},
   "outputs": [
    {
     "data": {
      "text/plain": [
       "task_container_id\n",
       "0     395990\n",
       "1     395934\n",
       "2     395595\n",
       "3     395341\n",
       "4     692079\n",
       "5     690051\n",
       "6     688813\n",
       "7     684275\n",
       "8     400019\n",
       "9     399641\n",
       "10    400660\n",
       "11    403521\n",
       "12    393358\n",
       "13    388645\n",
       "14    804285\n",
       "15    798539\n",
       "16    327490\n",
       "17    308415\n",
       "18    298483\n",
       "19    292249\n",
       "20    284771\n",
       "21    275403\n",
       "22    272569\n",
       "23    269563\n",
       "24    268550\n",
       "25    267958\n",
       "26    256507\n",
       "27    248244\n",
       "28    243847\n",
       "29    239636\n",
       "dtype: int64"
      ]
     },
     "execution_count": 23,
     "metadata": {},
     "output_type": "execute_result"
    }
   ],
   "source": [
    "# группы с маленькими индексами встречаются гораздо чаще (вводные курсы/вопросы?)\n",
    "cont_size[:30]"
   ]
  },
  {
   "cell_type": "code",
   "execution_count": null,
   "metadata": {},
   "outputs": [],
   "source": [
    "# Для ответов на вопросы в рамках одного task_container_id будут одинаковые даты."
   ]
  },
  {
   "cell_type": "markdown",
   "metadata": {},
   "source": [
    "### user_answer\n",
    "\n",
    "Каким значением пользоваель ответил на вопрос. Для лекции поле принимает заначение -1, для вопросов 0-3."
   ]
  },
  {
   "cell_type": "code",
   "execution_count": 24,
   "metadata": {},
   "outputs": [
    {
     "data": {
      "text/plain": [
       " 0    28186489\n",
       " 1    26990007\n",
       " 3    26084784\n",
       " 2    18010020\n",
       "-1     1959032\n",
       "Name: user_answer, dtype: int64"
      ]
     },
     "execution_count": 24,
     "metadata": {},
     "output_type": "execute_result"
    }
   ],
   "source": [
    "# соотношение user_answer в данных\n",
    "train['user_answer'].value_counts()"
   ]
  },
  {
   "cell_type": "code",
   "execution_count": 25,
   "metadata": {},
   "outputs": [
    {
     "data": {
      "text/plain": [
       "0"
      ]
     },
     "execution_count": 25,
     "metadata": {},
     "output_type": "execute_result"
    }
   ],
   "source": [
    "# для вопросов -1 не используется \n",
    "len(train[(train['user_answer'] == -1) & (train['content_type_id'] == False)])"
   ]
  },
  {
   "cell_type": "code",
   "execution_count": null,
   "metadata": {},
   "outputs": [],
   "source": []
  },
  {
   "cell_type": "markdown",
   "metadata": {},
   "source": [
    "### prior_question_elapsed_time\n",
    "\n",
    "Среднее время в миллисекундах, которое потребовалось пользователю, чтобы ответить на каждый вопрос в предыдущей группе вопросов. Лекции не учитываются.\n",
    "Это _среднее время_, затраченное пользователем на решение _каждого_ вопроса из предыдущего пакета.\n",
    "Для первой группы вопросов значение не определено. "
   ]
  },
  {
   "cell_type": "code",
   "execution_count": null,
   "metadata": {},
   "outputs": [],
   "source": []
  },
  {
   "cell_type": "markdown",
   "metadata": {},
   "source": [
    "### prior_question_had_explanation\n",
    "\n",
    "Видел ли пользователь объяснение и правильный ответ на предыдущий набор вопросов."
   ]
  },
  {
   "cell_type": "code",
   "execution_count": null,
   "metadata": {},
   "outputs": [],
   "source": []
  },
  {
   "cell_type": "markdown",
   "metadata": {},
   "source": [
    "### answered_correctly\n",
    "\n",
    "Правильно ли пользователь ответил на вопрос: 1 - верно, 0 - неверно.\n",
    "\n",
    "Для лекций используется -1."
   ]
  },
  {
   "cell_type": "code",
   "execution_count": 26,
   "metadata": {},
   "outputs": [
    {
     "data": {
      "text/plain": [
       " 1    65244627\n",
       " 0    34026673\n",
       "-1     1959032\n",
       "Name: answered_correctly, dtype: int64"
      ]
     },
     "execution_count": 26,
     "metadata": {},
     "output_type": "execute_result"
    }
   ],
   "source": [
    "# соотношение правильных и неверных ответов\n",
    "train['answered_correctly'].value_counts()"
   ]
  },
  {
   "cell_type": "code",
   "execution_count": 27,
   "metadata": {},
   "outputs": [
    {
     "data": {
      "image/png": "[encoded data removed]",
      "text/plain": [
       "<Figure size 1152x648 with 1 Axes>"
      ]
     },
     "metadata": {},
     "output_type": "display_data"
    }
   ],
   "source": [
    "train['answered_correctly'].hist();"
   ]
  },
  {
   "cell_type": "code",
   "execution_count": null,
   "metadata": {},
   "outputs": [],
   "source": []
  },
  {
   "cell_type": "markdown",
   "metadata": {},
   "source": [
    "## Исследование фичей questions"
   ]
  },
  {
   "cell_type": "code",
   "execution_count": 28,
   "metadata": {},
   "outputs": [
    {
     "data": {
      "text/html": [
       "<div>\n",
       "<style scoped>\n",
       "    .dataframe tbody tr th:only-of-type {\n",
       "        vertical-align: middle;\n",
       "    }\n",
       "\n",
       "    .dataframe tbody tr th {\n",
       "        vertical-align: top;\n",
       "    }\n",
       "\n",
       "    .dataframe thead th {\n",
       "        text-align: right;\n",
       "    }\n",
       "</style>\n",
       "<table border=\"1\" class=\"dataframe\">\n",
       "  <thead>\n",
       "    <tr style=\"text-align: right;\">\n",
       "      <th></th>\n",
       "      <th>question_id</th>\n",
       "      <th>bundle_id</th>\n",
       "      <th>correct_answer</th>\n",
       "      <th>part</th>\n",
       "      <th>tags</th>\n",
       "    </tr>\n",
       "  </thead>\n",
       "  <tbody>\n",
       "    <tr>\n",
       "      <th>0</th>\n",
       "      <td>0</td>\n",
       "      <td>0</td>\n",
       "      <td>0</td>\n",
       "      <td>1</td>\n",
       "      <td>51 131 162 38</td>\n",
       "    </tr>\n",
       "    <tr>\n",
       "      <th>1</th>\n",
       "      <td>1</td>\n",
       "      <td>1</td>\n",
       "      <td>1</td>\n",
       "      <td>1</td>\n",
       "      <td>131 36 81</td>\n",
       "    </tr>\n",
       "    <tr>\n",
       "      <th>2</th>\n",
       "      <td>2</td>\n",
       "      <td>2</td>\n",
       "      <td>0</td>\n",
       "      <td>1</td>\n",
       "      <td>131 101 162 92</td>\n",
       "    </tr>\n",
       "    <tr>\n",
       "      <th>3</th>\n",
       "      <td>3</td>\n",
       "      <td>3</td>\n",
       "      <td>0</td>\n",
       "      <td>1</td>\n",
       "      <td>131 149 162 29</td>\n",
       "    </tr>\n",
       "    <tr>\n",
       "      <th>4</th>\n",
       "      <td>4</td>\n",
       "      <td>4</td>\n",
       "      <td>3</td>\n",
       "      <td>1</td>\n",
       "      <td>131 5 162 38</td>\n",
       "    </tr>\n",
       "  </tbody>\n",
       "</table>\n",
       "</div>"
      ],
      "text/plain": [
       "   question_id  bundle_id  correct_answer  part            tags\n",
       "0            0          0               0     1   51 131 162 38\n",
       "1            1          1               1     1       131 36 81\n",
       "2            2          2               0     1  131 101 162 92\n",
       "3            3          3               0     1  131 149 162 29\n",
       "4            4          4               3     1    131 5 162 38"
      ]
     },
     "execution_count": 28,
     "metadata": {},
     "output_type": "execute_result"
    }
   ],
   "source": [
    "questions.head()"
   ]
  },
  {
   "cell_type": "code",
   "execution_count": 29,
   "metadata": {},
   "outputs": [
    {
     "data": {
      "text/plain": [
       "question_id        int16\n",
       "bundle_id          int64\n",
       "correct_answer     int64\n",
       "part                int8\n",
       "tags              object\n",
       "dtype: object"
      ]
     },
     "execution_count": 29,
     "metadata": {},
     "output_type": "execute_result"
    }
   ],
   "source": [
    "questions.dtypes"
   ]
  },
  {
   "cell_type": "markdown",
   "metadata": {},
   "source": [
    "### part\n",
    "\n",
    "ID раздела, к которому относиться вопрос."
   ]
  },
  {
   "cell_type": "code",
   "execution_count": 30,
   "metadata": {},
   "outputs": [
    {
     "data": {
      "text/plain": [
       "array([1, 2, 3, 4, 5, 6, 7], dtype=int8)"
      ]
     },
     "execution_count": 30,
     "metadata": {},
     "output_type": "execute_result"
    }
   ],
   "source": [
    "# количестов уникальных разделов\n",
    "questions['part'].unique()"
   ]
  },
  {
   "cell_type": "code",
   "execution_count": 31,
   "metadata": {},
   "outputs": [
    {
     "data": {
      "text/html": [
       "<div>\n",
       "<style scoped>\n",
       "    .dataframe tbody tr th:only-of-type {\n",
       "        vertical-align: middle;\n",
       "    }\n",
       "\n",
       "    .dataframe tbody tr th {\n",
       "        vertical-align: top;\n",
       "    }\n",
       "\n",
       "    .dataframe thead th {\n",
       "        text-align: right;\n",
       "    }\n",
       "</style>\n",
       "<table border=\"1\" class=\"dataframe\">\n",
       "  <thead>\n",
       "    <tr style=\"text-align: right;\">\n",
       "      <th></th>\n",
       "      <th>part</th>\n",
       "    </tr>\n",
       "  </thead>\n",
       "  <tbody>\n",
       "    <tr>\n",
       "      <th>5</th>\n",
       "      <td>5511</td>\n",
       "    </tr>\n",
       "    <tr>\n",
       "      <th>2</th>\n",
       "      <td>1647</td>\n",
       "    </tr>\n",
       "    <tr>\n",
       "      <th>3</th>\n",
       "      <td>1562</td>\n",
       "    </tr>\n",
       "    <tr>\n",
       "      <th>4</th>\n",
       "      <td>1439</td>\n",
       "    </tr>\n",
       "    <tr>\n",
       "      <th>6</th>\n",
       "      <td>1212</td>\n",
       "    </tr>\n",
       "    <tr>\n",
       "      <th>7</th>\n",
       "      <td>1160</td>\n",
       "    </tr>\n",
       "    <tr>\n",
       "      <th>1</th>\n",
       "      <td>992</td>\n",
       "    </tr>\n",
       "  </tbody>\n",
       "</table>\n",
       "</div>"
      ],
      "text/plain": [
       "   part\n",
       "5  5511\n",
       "2  1647\n",
       "3  1562\n",
       "4  1439\n",
       "6  1212\n",
       "7  1160\n",
       "1   992"
      ]
     },
     "execution_count": 31,
     "metadata": {},
     "output_type": "execute_result"
    }
   ],
   "source": [
    "questions['part'].value_counts().to_frame()"
   ]
  },
  {
   "cell_type": "markdown",
   "metadata": {},
   "source": [
    "### tags\n",
    "\n",
    "ID тега. Тег кластеризуют вопросы по темам (вероятно).\n",
    "Каждый вопрос имеет как минимум один тег."
   ]
  },
  {
   "cell_type": "code",
   "execution_count": 32,
   "metadata": {},
   "outputs": [
    {
     "data": {
      "text/plain": [
       "188"
      ]
     },
     "execution_count": 32,
     "metadata": {},
     "output_type": "execute_result"
    }
   ],
   "source": [
    "# Количество уникальных тегов\n",
    "questions['tags'].str.split().explode('tags').nunique()"
   ]
  },
  {
   "cell_type": "code",
   "execution_count": null,
   "metadata": {},
   "outputs": [],
   "source": []
  },
  {
   "cell_type": "code",
   "execution_count": null,
   "metadata": {},
   "outputs": [],
   "source": []
  },
  {
   "cell_type": "code",
   "execution_count": null,
   "metadata": {},
   "outputs": [],
   "source": []
  },
  {
   "cell_type": "markdown",
   "metadata": {},
   "source": [
    "## EDA"
   ]
  },
  {
   "cell_type": "code",
   "execution_count": 33,
   "metadata": {},
   "outputs": [],
   "source": [
    "# трейн только для вопросов\n",
    "train_q = train[train['content_type_id'] == False]"
   ]
  },
  {
   "cell_type": "code",
   "execution_count": 34,
   "metadata": {},
   "outputs": [
    {
     "data": {
      "text/plain": [
       "12607"
      ]
     },
     "execution_count": 34,
     "metadata": {},
     "output_type": "execute_result"
    }
   ],
   "source": [
    "del train\n",
    "gc.collect()"
   ]
  },
  {
   "cell_type": "code",
   "execution_count": 35,
   "metadata": {},
   "outputs": [],
   "source": [
    "# Оставить только последнии 24 взаимодействия пользователя с платформой \n",
    "train_q = train_q.groupby('user_id').tail(24).reset_index(drop=True)"
   ]
  },
  {
   "cell_type": "code",
   "execution_count": 36,
   "metadata": {},
   "outputs": [],
   "source": [
    "# объеденим трейн с вопросами\n",
    "train_q = pd.merge(\n",
    "    train_q,\n",
    "    questions,\n",
    "    left_on='content_id',\n",
    "    right_on='question_id',\n",
    "    how='left'\n",
    ")\n",
    "train_q.drop(columns=['question_id'], inplace=True)"
   ]
  },
  {
   "cell_type": "code",
   "execution_count": 37,
   "metadata": {},
   "outputs": [],
   "source": [
    "# фичи на основе тегов вопроса\n",
    "train_q['user_tags_correctness'] = train_q_tags['user_tags_correctness']\n",
    "train_q['tags_total_answer'] = train_q_tags['tags_total_answer']\n",
    "train_q['best_tag_correctness'] = train_q_tags['best_tag_right'] / train_q_tags['best_tag_answers']"
   ]
  },
  {
   "cell_type": "code",
   "execution_count": 38,
   "metadata": {},
   "outputs": [
    {
     "data": {
      "text/plain": [
       "60"
      ]
     },
     "execution_count": 38,
     "metadata": {},
     "output_type": "execute_result"
    }
   ],
   "source": [
    "del train_q_tags\n",
    "gc.collect()"
   ]
  },
  {
   "cell_type": "code",
   "execution_count": 39,
   "metadata": {},
   "outputs": [],
   "source": [
    "# Общая правильность пользователей\n",
    "user_agg = train_q.groupby('user_id')['answered_correctly'].agg(['sum', 'count'])\n",
    "\n",
    "# Общая сложность вопросов\n",
    "content_agg = train_q.groupby('content_id')['answered_correctly'].agg(['sum', 'count'])"
   ]
  },
  {
   "cell_type": "code",
   "execution_count": 40,
   "metadata": {},
   "outputs": [
    {
     "data": {
      "text/plain": [
       "0.20127416972548712"
      ]
     },
     "execution_count": 40,
     "metadata": {},
     "output_type": "execute_result"
    }
   ],
   "source": [
    "# таргет имеет небольшую корреляцию с prior_question_had_explanation\n",
    "train_q['prior_question_had_explanation'].astype(float).corr(train_q['answered_correctly'])"
   ]
  },
  {
   "cell_type": "code",
   "execution_count": 41,
   "metadata": {},
   "outputs": [
    {
     "data": {
      "text/plain": [
       "0.06859712638895846"
      ]
     },
     "execution_count": 41,
     "metadata": {},
     "output_type": "execute_result"
    }
   ],
   "source": [
    "# ID пачки вопрсов немного коррелирует с таргетом (есть сложные пачки на которых ошибаются все?)\n",
    "train_q['task_container_id'].corr(train_q['answered_correctly'])"
   ]
  },
  {
   "cell_type": "code",
   "execution_count": 42,
   "metadata": {},
   "outputs": [
    {
     "data": {
      "text/plain": [
       "0.1303798000486994"
      ]
     },
     "execution_count": 42,
     "metadata": {},
     "output_type": "execute_result"
    }
   ],
   "source": [
    "# был ли предыдущий вопрос отвечен правильно, коррелирует с таргетом\n",
    "train_q['answered_correctly'].shift().corr(train_q['answered_correctly'])"
   ]
  },
  {
   "cell_type": "code",
   "execution_count": 43,
   "metadata": {},
   "outputs": [],
   "source": [
    "# правильно ли пользователь ответил на предыдущий вопрос\n",
    "train_q['lag'] = train_q.groupby('user_id')['answered_correctly'].shift()\n",
    "\n",
    "# на сколько вопрсоов ответил правильно и сколько всего было задано (изменяется по мере продвижения по датасету)\n",
    "cum = train_q.groupby('user_id')['lag'].agg(['cumsum', 'cumcount'])\n",
    "\n",
    "# правливьность ответов пользователя\n",
    "train_q['user_correctness'] = cum['cumsum'] / cum['cumcount']"
   ]
  },
  {
   "cell_type": "code",
   "execution_count": 44,
   "metadata": {},
   "outputs": [
    {
     "data": {
      "text/plain": [
       "0.2104817315819393"
      ]
     },
     "execution_count": 44,
     "metadata": {},
     "output_type": "execute_result"
    }
   ],
   "source": [
    "# правлиьность ответов пользователя коррелирует хорошо\n",
    "train_q['user_correctness'].corr(train_q['answered_correctly'])"
   ]
  },
  {
   "cell_type": "code",
   "execution_count": 45,
   "metadata": {},
   "outputs": [
    {
     "data": {
      "text/plain": [
       "-0.19935557054820363"
      ]
     },
     "execution_count": 45,
     "metadata": {},
     "output_type": "execute_result"
    }
   ],
   "source": [
    "# Сколько раз правильно ответили на вопрос все пользователи\n",
    "train_q['content_count'] = train_q['content_id'].map(content_agg['count']).astype('int32')\n",
    "\n",
    "# Хорошая обратная корреляция\n",
    "train_q['content_count'].corr(train_q['answered_correctly'])"
   ]
  },
  {
   "cell_type": "code",
   "execution_count": 46,
   "metadata": {},
   "outputs": [
    {
     "data": {
      "text/plain": [
       "0.3784310969219484"
      ]
     },
     "execution_count": 46,
     "metadata": {},
     "output_type": "execute_result"
    }
   ],
   "source": [
    "# На сколько вопрос сложный, как часто пользователи в нем ошибались\n",
    "train_q['content_difficult'] = train_q['content_id'].map(content_agg['sum'] / content_agg['count'])\n",
    "\n",
    "# Хорошая корреляция с тем как часто ошибаются остальные пользователи\n",
    "train_q['content_difficult'].corr(train_q['answered_correctly'])"
   ]
  },
  {
   "cell_type": "code",
   "execution_count": 170,
   "metadata": {},
   "outputs": [],
   "source": [
    "# промежуток времени между bundle\n",
    "\n",
    "train_q['time_between_bundle'] = train_q['timestamp'] - train_q.groupby(by=['user_id'])['timestamp'].shift(1)\n",
    "train_q['time_between_bundle'] = train_q['time_between_bundle'].replace(to_replace=0, method='ffill').fillna(0)\n",
    "train_q['time_between_bundle'] = train_q['time_between_bundle'].astype(int)"
   ]
  },
  {
   "cell_type": "code",
   "execution_count": null,
   "metadata": {},
   "outputs": [],
   "source": [
    "# корреляция плохая, но скор докидывает\n",
    "train_q['time_between_bundle'].corr(train_q['answered_correctly'])"
   ]
  },
  {
   "cell_type": "code",
   "execution_count": 47,
   "metadata": {},
   "outputs": [],
   "source": [
    "# user_tag_agg = user_tag_agg.set_index(['user_id', 'tags'])\n",
    "# def get_tags_correctness(row):\n",
    "#     tags_right_answer = 0\n",
    "#     tags_all_answer = 0\n",
    "#     for tag in row['tags'].split():\n",
    "#         tags_right_answer += user_tag_agg.loc[row['user_id'], tag]['sum']\n",
    "#         tags_all_answer += user_tag_agg.loc[row['user_id'], tag]['count']\n",
    "#     return tags_right_answer / tags_all_answer"
   ]
  },
  {
   "cell_type": "code",
   "execution_count": 48,
   "metadata": {},
   "outputs": [],
   "source": [
    "# %%time\n",
    "\n",
    "# train_q['user_tags_correctness'] = train_q.apply(get_tags_correctness, axis=1)"
   ]
  },
  {
   "cell_type": "code",
   "execution_count": 49,
   "metadata": {},
   "outputs": [],
   "source": [
    "# train_q['user_tags_correctness'].corr(train_q['answered_correctly'])"
   ]
  },
  {
   "cell_type": "code",
   "execution_count": null,
   "metadata": {},
   "outputs": [],
   "source": []
  },
  {
   "cell_type": "code",
   "execution_count": null,
   "metadata": {},
   "outputs": [],
   "source": []
  },
  {
   "cell_type": "code",
   "execution_count": null,
   "metadata": {},
   "outputs": [],
   "source": []
  },
  {
   "cell_type": "code",
   "execution_count": null,
   "metadata": {},
   "outputs": [],
   "source": []
  },
  {
   "cell_type": "code",
   "execution_count": null,
   "metadata": {},
   "outputs": [],
   "source": []
  },
  {
   "cell_type": "code",
   "execution_count": 5,
   "metadata": {},
   "outputs": [],
   "source": [
    "train_dtypes = {\n",
    "    'user_id': 'int32', \n",
    "    'content_id': 'int16', \n",
    "    'answered_correctly': 'int8', \n",
    "    'prior_question_elapsed_time': 'float32', \n",
    "    'prior_question_had_explanation': 'bool'\n",
    "}\n",
    "train = pd.read_feather(os.path.join(PATH_TO_DATA, 'train.feather'))"
   ]
  },
  {
   "cell_type": "code",
   "execution_count": 6,
   "metadata": {},
   "outputs": [],
   "source": [
    "train = train[train['answered_correctly'] != -1].reset_index(drop=True)"
   ]
  },
  {
   "cell_type": "code",
   "execution_count": 7,
   "metadata": {},
   "outputs": [],
   "source": [
    "train = train[1200*10000: 2*1200*10000]"
   ]
  },
  {
   "cell_type": "code",
   "execution_count": 9,
   "metadata": {},
   "outputs": [],
   "source": [
    "dtypes = {\n",
    "    'question_id': 'int16',\n",
    "    'part': 'int8'\n",
    "}\n",
    "questions = pd.read_csv(os.path.join(PATH_TO_DATA, 'questions.csv'), dtype=dtypes)"
   ]
  },
  {
   "cell_type": "code",
   "execution_count": 10,
   "metadata": {},
   "outputs": [],
   "source": [
    "train = pd.merge(\n",
    "    train,\n",
    "    questions,\n",
    "    left_on='content_id',\n",
    "    right_on='question_id',\n",
    "    how='left'\n",
    ")\n",
    "train.drop(columns=['question_id'], inplace=True)"
   ]
  },
  {
   "cell_type": "code",
   "execution_count": 17,
   "metadata": {},
   "outputs": [],
   "source": [
    "def add_tags_feature(row):\n",
    "    tags_right_answer = 0\n",
    "    tags_all_answer = 0\n",
    "    best_tag = {}\n",
    "    for tag in row['tags'].split():\n",
    "        tag = int(tag)\n",
    "        tag_right_answer = 0\n",
    "        tag_all_answer = 0\n",
    "        if row['user_id'] in USER_TAGS:\n",
    "            if tag in USER_TAGS[row['user_id']]:\n",
    "                tag_right_answer = USER_TAGS[row['user_id']][tag]['right_answer']\n",
    "                tag_all_answer = USER_TAGS[row['user_id']][tag]['all_answer']\n",
    "                USER_TAGS[row['user_id']][tag]['right_answer'] += row['answered_correctly']\n",
    "                USER_TAGS[row['user_id']][tag]['all_answer'] += 1\n",
    "            else:\n",
    "                USER_TAGS[row['user_id']][tag] = {\n",
    "                    'right_answer': row['answered_correctly'],\n",
    "                    'all_answer': 1\n",
    "                }\n",
    "        else:\n",
    "            USER_TAGS[row['user_id']] = {\n",
    "                tag: {\n",
    "                    'right_answer': row['answered_correctly'],\n",
    "                    'all_answer': 1\n",
    "                }\n",
    "            }\n",
    "        tags_right_answer += tag_right_answer\n",
    "        tags_all_answer += tag_all_answer\n",
    "        if tag_all_answer:\n",
    "            tag_score = tag_right_answer / tag_all_answer\n",
    "        else:\n",
    "            tag_score = 0\n",
    "\n",
    "        if best_tag:\n",
    "            score = best_tag['score']\n",
    "            if score < tag_score:\n",
    "                best_tag = {\n",
    "                    'id': tag,\n",
    "                    'score': tag_score,\n",
    "                    'right_answer': tag_right_answer,\n",
    "                    'all_answer': tag_all_answer\n",
    "                }\n",
    "        else:\n",
    "            best_tag = {\n",
    "                'id': tag,\n",
    "                'score': tag_score,\n",
    "                'right_answer': tag_right_answer,\n",
    "                'all_answer': tag_all_answer\n",
    "            }\n",
    "\n",
    "    if not tags_all_answer:\n",
    "        row['user_tags_correctness'] = None\n",
    "        row['tags_total_answer'] = None\n",
    "    else:\n",
    "        row['user_tags_correctness'] = tags_right_answer / tags_all_answer\n",
    "        row['tags_total_answer'] = tags_all_answer\n",
    "\n",
    "    row['best_tag'] = best_tag['id'] if best_tag else None\n",
    "    row['best_tag_right'] = best_tag['right_answer'] if best_tag else None\n",
    "    row['best_tag_answers'] = best_tag['all_answer'] if best_tag else None\n",
    "    \n",
    "    return row"
   ]
  },
  {
   "cell_type": "code",
   "execution_count": 18,
   "metadata": {},
   "outputs": [
    {
     "name": "stdout",
     "output_type": "stream",
     "text": [
      "CPU times: user 7h 47min 59s, sys: 15min 20s, total: 8h 3min 19s\n",
      "Wall time: 8h 13min 30s\n"
     ]
    }
   ],
   "source": [
    "%%time\n",
    "\n",
    "USER_TAGS = {}\n",
    "train = train.apply(add_tags_feature, axis='columns')"
   ]
  },
  {
   "cell_type": "code",
   "execution_count": 21,
   "metadata": {},
   "outputs": [],
   "source": [
    "train[['user_tags_correctness', 'tags_total_answer', 'best_tag', 'best_tag_right', \n",
    "         'best_tag_answers']].to_csv(os.path.join(PATH_TO_DATA, 'best_tag.csv'))"
   ]
  },
  {
   "cell_type": "code",
   "execution_count": 29,
   "metadata": {},
   "outputs": [],
   "source": [
    "import pickle\n",
    "\n",
    "with open(os.path.join(PATH_TO_DATA, 'user_tags.dict'), 'wb') as f:\n",
    "    pickle.dump(USER_TAGS, f)"
   ]
  },
  {
   "cell_type": "code",
   "execution_count": 79,
   "metadata": {},
   "outputs": [],
   "source": [
    "# USER_TAGS"
   ]
  },
  {
   "cell_type": "code",
   "execution_count": 224,
   "metadata": {},
   "outputs": [],
   "source": [
    "user = train_q[train_q['user_id'] == 115]"
   ]
  },
  {
   "cell_type": "code",
   "execution_count": 37,
   "metadata": {},
   "outputs": [],
   "source": [
    "user_tag_agg = pd.read_feather(os.path.join(PATH_TO_DATA, 'user_tag_agg.feather'))"
   ]
  },
  {
   "cell_type": "code",
   "execution_count": 42,
   "metadata": {},
   "outputs": [],
   "source": [
    "tags_agg = user_tag_agg.groupby('tags')['sum'].sum() / user_tag_agg.groupby('tags')['count'].sum()"
   ]
  },
  {
   "cell_type": "code",
   "execution_count": 81,
   "metadata": {},
   "outputs": [
    {
     "data": {
      "text/plain": [
       "tags\n",
       "0      0.626474\n",
       "1      0.608267\n",
       "10     0.662076\n",
       "100    0.704964\n",
       "101    0.788714\n",
       "         ...   \n",
       "95     0.695039\n",
       "96     0.620850\n",
       "97     0.660286\n",
       "98     0.725224\n",
       "99     0.740721\n",
       "Length: 188, dtype: float64"
      ]
     },
     "execution_count": 81,
     "metadata": {},
     "output_type": "execute_result"
    }
   ],
   "source": [
    "tags_agg.loc"
   ]
  },
  {
   "cell_type": "code",
   "execution_count": 69,
   "metadata": {},
   "outputs": [],
   "source": [
    "def get_tags_corr(tags):\n",
    "    result = 0\n",
    "    tags = tags.split()\n",
    "    for tag in tags:\n",
    "        result += tags_agg.loc[tag]\n",
    "    return result / len(tags)"
   ]
  },
  {
   "cell_type": "code",
   "execution_count": 78,
   "metadata": {},
   "outputs": [
    {
     "name": "stdout",
     "output_type": "stream",
     "text": [
      "CPU times: user 4min 55s, sys: 2.74 s, total: 4min 58s\n",
      "Wall time: 5min 4s\n"
     ]
    },
    {
     "data": {
      "text/plain": [
       "0           0.763548\n",
       "1           0.752740\n",
       "2           0.659576\n",
       "3           0.750310\n",
       "4           0.779666\n",
       "              ...   \n",
       "11999995    0.702609\n",
       "11999996    0.686426\n",
       "11999997    0.693864\n",
       "11999998    0.693650\n",
       "11999999    0.708070\n",
       "Name: tags, Length: 12000000, dtype: float64"
      ]
     },
     "execution_count": 78,
     "metadata": {},
     "output_type": "execute_result"
    }
   ],
   "source": [
    "%%time\n",
    "\n",
    "train['tags'].apply(get_tags_corr)"
   ]
  },
  {
   "cell_type": "markdown",
   "metadata": {},
   "source": [
    "### Проверить\n",
    "\n",
    "- слушал ли студент лекцию перед вопросами?\n",
    "- user_part_correctness\n",
    "- number_lectures_attended, percent_of_tags_with_lectures, \n"
   ]
  },
  {
   "cell_type": "code",
   "execution_count": null,
   "metadata": {},
   "outputs": [],
   "source": []
  },
  {
   "cell_type": "markdown",
   "metadata": {},
   "source": [
    "### Процесс сабмита\n",
    "\n",
    "Либа riiideducation предоставляет итератор, который за раз возвращает инфу по взаимодействиям с платформой для 1-1000 пользователей.\n"
   ]
  },
  {
   "cell_type": "code",
   "execution_count": null,
   "metadata": {},
   "outputs": [],
   "source": []
  }
 ],
 "metadata": {
  "kernelspec": {
   "display_name": "Python 3",
   "language": "python",
   "name": "python3"
  },
  "language_info": {
   "codemirror_mode": {
    "name": "ipython",
    "version": 3
   },
   "file_extension": ".py",
   "mimetype": "text/x-python",
   "name": "python",
   "nbconvert_exporter": "python",
   "pygments_lexer": "ipython3",
   "version": "3.8.6"
  }
 },
 "nbformat": 4,
 "nbformat_minor": 4
}
